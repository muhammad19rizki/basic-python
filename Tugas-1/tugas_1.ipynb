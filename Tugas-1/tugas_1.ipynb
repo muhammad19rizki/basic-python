{
 "metadata": {
  "language_info": {
   "codemirror_mode": {
    "name": "ipython",
    "version": 3
   },
   "file_extension": ".py",
   "mimetype": "text/x-python",
   "name": "python",
   "nbconvert_exporter": "python",
   "pygments_lexer": "ipython3",
   "version": "3.9.0-final"
  },
  "orig_nbformat": 2,
  "kernelspec": {
   "name": "python3",
   "display_name": "Python 3.9.0 64-bit",
   "metadata": {
    "interpreter": {
     "hash": "3e3097152bdc5421e94cf8a7d29a2a91e70c0b9be4bc5f0752ac93b950dd66ef"
    }
   }
  }
 },
 "nbformat": 4,
 "nbformat_minor": 2,
 "cells": [
  {
   "cell_type": "code",
   "execution_count": 4,
   "metadata": {},
   "outputs": [
    {
     "output_type": "stream",
     "name": "stdout",
     "text": [
      "Nama saya rizki, umur saya 23 tahun dan tinggi saya 160.0 cm\n"
     ]
    }
   ],
   "source": [
    "nama = str(input(\"input Nama : \"))\n",
    "umur = int(input(\"input umur : \"))\n",
    "tinggi = float(input(\"input tinggi : \"))\n",
    "\n",
    "print(\"Nama saya {}, umur saya {} tahun dan tinggi saya {} cm\".format(nama, umur, tinggi))"
   ]
  },
  {
   "cell_type": "code",
   "execution_count": 16,
   "metadata": {},
   "outputs": [
    {
     "output_type": "stream",
     "name": "stdout",
     "text": [
      "Luas Lingkaran dengan jari- jari 10 cm adalah 314.29 cm²\n"
     ]
    }
   ],
   "source": [
    "jariJari = int(input(\"input jari-jari : \"))\n",
    "pi = 22/7\n",
    "luasLingkaran = pi * jariJari**2\n",
    "\n",
    "print(\"Luas Lingkaran dengan jari- jari {} cm adalah {:.2f} cm\\u00b2\".format(jariJari, luasLingkaran))"
   ]
  },
  {
   "cell_type": "code",
   "execution_count": 15,
   "metadata": {},
   "outputs": [
    {
     "output_type": "stream",
     "name": "stdout",
     "text": [
      "Anda harus mengulai ujian praktek\n"
     ]
    }
   ],
   "source": [
    "teori = int(input(\"input nilai teori : \"))\n",
    "praktek = int(input(\"input nilai praktek : \"))\n",
    "\n",
    "if teori<70 and praktek<70:\n",
    "    print(\"Anda harus mengulang ujian teori dan praktek\")\n",
    "elif  teori<70 and praktek<=70:\n",
    "    print(\"Anda harus mengulang ujian teori\")\n",
    "elif teori<=70 and praktek<70:\n",
    "    print(\"Anda harus mengulai ujian praktek\")\n",
    "else:\n",
    "    print(\"Selamat, anda lulus!\")"
   ]
  },
  {
   "cell_type": "code",
   "execution_count": null,
   "metadata": {},
   "outputs": [],
   "source": []
  }
 ]
}