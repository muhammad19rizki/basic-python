{
 "metadata": {
  "language_info": {
   "codemirror_mode": {
    "name": "ipython",
    "version": 3
   },
   "file_extension": ".py",
   "mimetype": "text/x-python",
   "name": "python",
   "nbconvert_exporter": "python",
   "pygments_lexer": "ipython3",
   "version": "3.9.0-final"
  },
  "orig_nbformat": 2,
  "kernelspec": {
   "name": "python3",
   "display_name": "Python 3.9.0 64-bit",
   "metadata": {
    "interpreter": {
     "hash": "3e3097152bdc5421e94cf8a7d29a2a91e70c0b9be4bc5f0752ac93b950dd66ef"
    }
   }
  }
 },
 "nbformat": 4,
 "nbformat_minor": 2,
 "cells": [
  {
   "source": [
    "## Pertemuan Kedua"
   ],
   "cell_type": "markdown",
   "metadata": {}
  },
  {
   "source": [
    "## Konversi antar tipe data"
   ],
   "cell_type": "markdown",
   "metadata": {}
  },
  {
   "source": [
    "### Integer"
   ],
   "cell_type": "markdown",
   "metadata": {}
  },
  {
   "cell_type": "code",
   "execution_count": 12,
   "metadata": {},
   "outputs": [
    {
     "output_type": "stream",
     "name": "stdout",
     "text": [
      "123456\n"
     ]
    }
   ],
   "source": [
    "number = \"123456\"\n",
    "print(int(number))"
   ]
  },
  {
   "cell_type": "code",
   "execution_count": 13,
   "metadata": {},
   "outputs": [
    {
     "output_type": "stream",
     "name": "stdout",
     "text": [
      "5\n"
     ]
    }
   ],
   "source": [
    "numberFloat = 5.0\n",
    "print(int(numberFloat))"
   ]
  },
  {
   "cell_type": "code",
   "execution_count": 16,
   "metadata": {},
   "outputs": [
    {
     "output_type": "stream",
     "name": "stdout",
     "text": [
      "<class 'int'>\n10.0\n<class 'int'>\n"
     ]
    }
   ],
   "source": [
    "numberInteger = 10\n",
    "print(type(numberInteger))\n",
    "print(float(numberInteger))\n",
    "print(type(numberInteger))"
   ]
  },
  {
   "source": [
    "## String format and argument Specifier\n"
   ],
   "cell_type": "markdown",
   "metadata": {}
  },
  {
   "cell_type": "code",
   "execution_count": 18,
   "metadata": {},
   "outputs": [
    {
     "output_type": "stream",
     "name": "stdout",
     "text": [
      "nama saya rizki nama dia lisanah\n"
     ]
    }
   ],
   "source": [
    "name1 = \"rizki\"\n",
    "name2 = \"lisanah\"\n",
    "print(\"nama saya {} nama dia {}\".format(name1, name2))"
   ]
  },
  {
   "cell_type": "code",
   "execution_count": 19,
   "metadata": {},
   "outputs": [],
   "source": [
    "from datetime import date\n",
    "from datetime import datetime"
   ]
  },
  {
   "cell_type": "code",
   "execution_count": 20,
   "metadata": {},
   "outputs": [
    {
     "output_type": "stream",
     "name": "stdout",
     "text": [
      "2021-01-10 13:46:23.555311\n"
     ]
    }
   ],
   "source": [
    "tanggal = datetime.now()\n",
    "print(tanggal)"
   ]
  },
  {
   "source": [
    "## User Input"
   ],
   "cell_type": "markdown",
   "metadata": {}
  },
  {
   "cell_type": "code",
   "execution_count": 21,
   "metadata": {},
   "outputs": [
    {
     "output_type": "stream",
     "name": "stdout",
     "text": [
      "Rizki\n"
     ]
    }
   ],
   "source": [
    "inputan = input(\"Name : \")\n",
    "print(inputan)"
   ]
  },
  {
   "cell_type": "code",
   "execution_count": 23,
   "metadata": {},
   "outputs": [
    {
     "output_type": "stream",
     "name": "stdout",
     "text": [
      "3\n"
     ]
    }
   ],
   "source": [
    "angka1 = int(input(\"angka pertama : \"))\n",
    "angka2 = int(input(\"angka kedua : \"))\n",
    "print(angka1 + angka2)"
   ]
  },
  {
   "source": [
    "## LOOPING\n"
   ],
   "cell_type": "markdown",
   "metadata": {}
  },
  {
   "cell_type": "code",
   "execution_count": 35,
   "metadata": {},
   "outputs": [
    {
     "output_type": "stream",
     "name": "stdout",
     "text": [
      "    January 2021\nMo Tu We Th Fr Sa Su\n             1  2  3\n 4  5  6  7  8  9 10\n11 12 13 14 15 16 17\n18 19 20 21 22 23 24\n25 26 27 28 29 30 31\n\n"
     ]
    }
   ],
   "source": [
    "import calendar \n",
    "\n",
    "cal = calendar.TextCalendar(calendar.MONDAY)\n",
    "month = cal.formatmonth(2021, 1, 0, 0)\n",
    "\n",
    "print(month)"
   ]
  },
  {
   "cell_type": "code",
   "execution_count": null,
   "metadata": {},
   "outputs": [],
   "source": []
  }
 ]
}