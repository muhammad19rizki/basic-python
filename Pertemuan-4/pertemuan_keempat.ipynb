{
 "metadata": {
  "language_info": {
   "codemirror_mode": {
    "name": "ipython",
    "version": 3
   },
   "file_extension": ".py",
   "mimetype": "text/x-python",
   "name": "python",
   "nbconvert_exporter": "python",
   "pygments_lexer": "ipython3",
   "version": "3.9.0-final"
  },
  "orig_nbformat": 2,
  "kernelspec": {
   "name": "python3",
   "display_name": "Python 3.9.0 64-bit",
   "metadata": {
    "interpreter": {
     "hash": "3e3097152bdc5421e94cf8a7d29a2a91e70c0b9be4bc5f0752ac93b950dd66ef"
    }
   }
  }
 },
 "nbformat": 4,
 "nbformat_minor": 2,
 "cells": [
  {
   "source": [
    "## Pertemuan Keempat"
   ],
   "cell_type": "markdown",
   "metadata": {}
  },
  {
   "source": [
    "### Menggabungkan Kondisi"
   ],
   "cell_type": "markdown",
   "metadata": {}
  },
  {
   "cell_type": "code",
   "execution_count": null,
   "metadata": {},
   "outputs": [],
   "source": [
    "#And\n",
    "\n",
    "masuk = 8\n",
    "max = 11\n",
    "jamMasuk = int(input(\"input jam masuk : \"))\n",
    "\n",
    "while (jamMasuk<masuk):\n",
    "    print(\"Anda terlalu cepat datang\")\n",
    "    break\n",
    "while (jamMasuk==masuk):\n",
    "    print(\"Anda tepat waktu\")\n",
    "    break\n",
    "while (jamMasuk>masuk and jamMasuk <= max):\n",
    "    print(\"Amda terlambat\")\n",
    "    break\n",
    "while (jamMasuk>max):\n",
    "    print(\"Anda tinggal kelas\")\n",
    "    break"
   ]
  },
  {
   "cell_type": "code",
   "execution_count": 1,
   "metadata": {},
   "outputs": [
    {
     "output_type": "stream",
     "name": "stdout",
     "text": [
      "False\n"
     ]
    }
   ],
   "source": [
    "a = 11\n",
    "b = 23\n",
    "c = 99\n",
    "\n",
    "print(a<b and c<b)\n"
   ]
  },
  {
   "cell_type": "code",
   "execution_count": 3,
   "metadata": {},
   "outputs": [
    {
     "output_type": "stream",
     "name": "stdout",
     "text": [
      "True\n"
     ]
    }
   ],
   "source": [
    "#OR\n",
    "\n",
    "print(a<b or c<b)\n"
   ]
  },
  {
   "cell_type": "code",
   "execution_count": 9,
   "metadata": {},
   "outputs": [
    {
     "output_type": "stream",
     "name": "stdout",
     "text": [
      "Login gagal\n"
     ]
    }
   ],
   "source": [
    "#NOT\n",
    "\n",
    "sandi = \"secret\"\n",
    "inputPassword = str(input(\"Masukkan Sandi kamu : \"))\n",
    "\n",
    "while (sandi == inputPassword):\n",
    "    print(\"Anda berhasil login\")\n",
    "    break\n",
    "while (sandi != inputPassword):\n",
    "    print(\"Login gagal\")\n",
    "    break"
   ]
  },
  {
   "source": [
    "## RANDOM MODULE"
   ],
   "cell_type": "markdown",
   "metadata": {}
  },
  {
   "cell_type": "code",
   "execution_count": 78,
   "metadata": {},
   "outputs": [
    {
     "output_type": "stream",
     "name": "stdout",
     "text": [
      "24\n"
     ]
    }
   ],
   "source": [
    "from random import randint, randrange\n",
    "\n",
    "nilaiRandom = randint(0, 100)\n",
    "print(nilaiRandom)"
   ]
  },
  {
   "cell_type": "code",
   "execution_count": 81,
   "metadata": {},
   "outputs": [
    {
     "output_type": "stream",
     "name": "stdout",
     "text": [
      "6\n"
     ]
    }
   ],
   "source": [
    "nilaiRandrange = randrange(0, 10, 2)\n",
    "print(nilaiRandrange)"
   ]
  },
  {
   "source": [
    "## LIST / Array"
   ],
   "cell_type": "markdown",
   "metadata": {}
  },
  {
   "cell_type": "code",
   "execution_count": 84,
   "metadata": {},
   "outputs": [
    {
     "output_type": "stream",
     "name": "stdout",
     "text": [
      "<class 'list'>\n['Tangerang', 'Jakarta', 'Bandung']\n"
     ]
    }
   ],
   "source": [
    "myList = ['Tangerang', 'Jakarta', 'Bandung']\n",
    "print(type(myList))\n",
    "print(myList)"
   ]
  },
  {
   "cell_type": "code",
   "execution_count": 93,
   "metadata": {},
   "outputs": [
    {
     "output_type": "stream",
     "name": "stdout",
     "text": [
      "['Tangerang', 'Jakarta', 'Bandung']\nBandung\nJakarta\n"
     ]
    }
   ],
   "source": [
    "# memanggil per elemen\n",
    "\n",
    "print(myList[0:3])\n",
    "print(myList[-1])\n",
    "print(myList[-2])"
   ]
  },
  {
   "cell_type": "code",
   "execution_count": 94,
   "metadata": {},
   "outputs": [
    {
     "output_type": "stream",
     "name": "stdout",
     "text": [
      "['Tangerang', 'Jakarta', 'Bandung', 'Ponorogo']\n"
     ]
    }
   ],
   "source": [
    "# menambahkan List\n",
    "\n",
    "myList.append(\"Ponorogo\")\n",
    "print(myList)"
   ]
  },
  {
   "cell_type": "code",
   "execution_count": 96,
   "metadata": {},
   "outputs": [
    {
     "output_type": "stream",
     "name": "stdout",
     "text": [
      "['Tangerang', 'Jakarta', 'Bandung']\n"
     ]
    }
   ],
   "source": [
    "# Menghapus elemen List\n",
    "\n",
    "del myList[3]\n",
    "print(myList)"
   ]
  },
  {
   "cell_type": "code",
   "execution_count": 97,
   "metadata": {},
   "outputs": [
    {
     "output_type": "stream",
     "name": "stdout",
     "text": [
      "3\n"
     ]
    }
   ],
   "source": [
    "print(len(myList))"
   ]
  },
  {
   "cell_type": "code",
   "execution_count": 106,
   "metadata": {},
   "outputs": [
    {
     "output_type": "stream",
     "name": "stdout",
     "text": [
      "saya ingin ke Tangerang\nsaya ingin ke Jakarta\nsaya ingin ke Bandung\n"
     ]
    }
   ],
   "source": [
    "# Looping List\n",
    "\n",
    "for c in myList:\n",
    "    print(f\"saya ingin ke {c}\")"
   ]
  },
  {
   "cell_type": "code",
   "execution_count": 107,
   "metadata": {},
   "outputs": [
    {
     "output_type": "stream",
     "name": "stdout",
     "text": [
      "['Tangerang', 'Cisadane', 'Bandung']\n"
     ]
    }
   ],
   "source": [
    " # Mengganti List\n",
    "\n",
    " myList[1] = \"Cisadane\"\n",
    " print(myList)"
   ]
  },
  {
   "source": [
    "## Dictionary"
   ],
   "cell_type": "markdown",
   "metadata": {}
  },
  {
   "cell_type": "code",
   "execution_count": 108,
   "metadata": {},
   "outputs": [
    {
     "output_type": "stream",
     "name": "stdout",
     "text": [
      "{'nama': 'Rima', 'kelas': '7E', 'umur': '12'}\n"
     ]
    }
   ],
   "source": [
    "bio = {'nama': 'Rima', 'kelas': '7E', 'umur' : '12'}\n",
    "\n",
    "print(bio)"
   ]
  },
  {
   "cell_type": "code",
   "execution_count": 109,
   "metadata": {},
   "outputs": [
    {
     "output_type": "stream",
     "name": "stdout",
     "text": [
      "7E\n"
     ]
    }
   ],
   "source": [
    "# memanggil\n",
    "\n",
    "print(bio['kelas'])"
   ]
  },
  {
   "cell_type": "code",
   "execution_count": 111,
   "metadata": {},
   "outputs": [
    {
     "output_type": "stream",
     "name": "stdout",
     "text": [
      "{'nama': 'Rima', 'kelas': '7E', 'umur': '12', 'tinggi': '160'}\n"
     ]
    }
   ],
   "source": [
    "# menambahkan elemen baru\n",
    "\n",
    "bio['tinggi'] = '160'\n",
    "\n",
    "print(bio)"
   ]
  },
  {
   "cell_type": "code",
   "execution_count": 112,
   "metadata": {},
   "outputs": [
    {
     "output_type": "stream",
     "name": "stdout",
     "text": [
      "{'nama': 'Rima', 'kelas': '7E', 'umur': '12', 'tinggi': '150'}\n"
     ]
    }
   ],
   "source": [
    "# Edit elemen\n",
    "\n",
    "bio['tinggi'] = '150'\n",
    "\n",
    "print(bio)"
   ]
  },
  {
   "cell_type": "code",
   "execution_count": 115,
   "metadata": {},
   "outputs": [
    {
     "output_type": "stream",
     "name": "stdout",
     "text": [
      "Biodata\nnama: Rima\nkelas: 7E\numur: 12\ntinggi: 150\n"
     ]
    }
   ],
   "source": [
    "## Looping Dictionary\n",
    "print(\"Biodata\")\n",
    "for key, value in bio.items():\n",
    "    print(key, value, sep=': ')"
   ]
  },
  {
   "cell_type": "code",
   "execution_count": 2,
   "metadata": {},
   "outputs": [
    {
     "output_type": "stream",
     "name": "stdout",
     "text": [
      "{1: {'nama': 'Rima', 'umur': '12', 'kelas': '7E', 'timggi': '150'}, 2: {'nama': 'Rizki', 'umur': '12', 'kelas': '8E', 'timggi': '167'}, 3: {'nama': 'Lisanah', 'umur': '12', 'kelas': '8E', 'timggi': '160'}}\n"
     ]
    }
   ],
   "source": [
    "user = {\n",
    "    1: {\n",
    "        'nama': 'Rima',\n",
    "        'umur': '12',\n",
    "        'kelas': '7E',\n",
    "        'timggi': '150'\n",
    "    },\n",
    "    2: {\n",
    "        'nama': 'Rizki',\n",
    "        'umur': '12',\n",
    "        'kelas': '8E',\n",
    "        'timggi': '167'\n",
    "    },\n",
    "    3: {\n",
    "        'nama': 'Lisanah',\n",
    "        'umur': '12',\n",
    "        'kelas': '8E',\n",
    "        'timggi': '160'\n",
    "    }\n",
    "}\n",
    "\n",
    "print(user)"
   ]
  },
  {
   "cell_type": "code",
   "execution_count": 4,
   "metadata": {},
   "outputs": [
    {
     "output_type": "stream",
     "name": "stdout",
     "text": [
      "{'nama': 'Rizki', 'umur': '12', 'kelas': '8E', 'timggi': '167'}\n"
     ]
    }
   ],
   "source": [
    "print(user[2])"
   ]
  },
  {
   "cell_type": "code",
   "execution_count": 23,
   "metadata": {},
   "outputs": [
    {
     "output_type": "stream",
     "name": "stdout",
     "text": [
      "nama: Rima\numur: 12\nkelas: 7E\ntimggi: 150\n\nnama: Rizki\numur: 12\nkelas: 8E\ntimggi: 167\n\nnama: Lisanah\numur: 12\nkelas: 8E\ntimggi: 160\n\n"
     ]
    }
   ],
   "source": [
    "for key, value in user.items():\n",
    "    # print(key, value, sep=': ')\n",
    "    for key in value:\n",
    "        print(key, value[key], sep=': ')\n",
    "    print()"
   ]
  },
  {
   "source": [
    "## KWARGS"
   ],
   "cell_type": "markdown",
   "metadata": {}
  },
  {
   "cell_type": "code",
   "execution_count": 25,
   "metadata": {},
   "outputs": [
    {
     "output_type": "stream",
     "name": "stdout",
     "text": [
      "Nama: Rima\nUmur: 10\n"
     ]
    }
   ],
   "source": [
    "def myFun(**fruits):\n",
    "    for e, v in fruits.items():\n",
    "        print(e, v, sep=': ')\n",
    "\n",
    "keyword = {'Nama': 'Rima', 'Umur': '10'}\n",
    "myFun(**keyword)"
   ]
  },
  {
   "source": [
    "## TUPLE"
   ],
   "cell_type": "markdown",
   "metadata": {}
  },
  {
   "cell_type": "code",
   "execution_count": 26,
   "metadata": {},
   "outputs": [
    {
     "output_type": "stream",
     "name": "stdout",
     "text": [
      "<class 'tuple'>\n"
     ]
    }
   ],
   "source": [
    "myTup = (\"Borobudur\", \"Piramid\", \"Betlehem\", \"Alpen\")\n",
    "print(type(myTup))"
   ]
  },
  {
   "cell_type": "code",
   "execution_count": 27,
   "metadata": {},
   "outputs": [
    {
     "output_type": "stream",
     "name": "stdout",
     "text": [
      "('Borobudur', 'Piramid', 'Betlehem', 'Alpen')\n"
     ]
    }
   ],
   "source": [
    "print(myTup)"
   ]
  },
  {
   "cell_type": "code",
   "execution_count": 28,
   "metadata": {},
   "outputs": [
    {
     "output_type": "stream",
     "name": "stdout",
     "text": [
      "('Borobudur', 'Piramid', 'Betlehem', 'Alpen')\n"
     ]
    }
   ],
   "source": [
    "print(myTup[0:4])"
   ]
  },
  {
   "cell_type": "code",
   "execution_count": 29,
   "metadata": {},
   "outputs": [
    {
     "output_type": "error",
     "ename": "AttributeError",
     "evalue": "'tuple' object has no attribute 'append'",
     "traceback": [
      "\u001b[1;31m---------------------------------------------------------------------------\u001b[0m",
      "\u001b[1;31mAttributeError\u001b[0m                            Traceback (most recent call last)",
      "\u001b[1;32m<ipython-input-29-2013ee7fbb55>\u001b[0m in \u001b[0;36m<module>\u001b[1;34m\u001b[0m\n\u001b[0;32m      1\u001b[0m \u001b[1;31m# Tambah item baru\u001b[0m\u001b[1;33m\u001b[0m\u001b[1;33m\u001b[0m\u001b[1;33m\u001b[0m\u001b[0m\n\u001b[1;32m----> 2\u001b[1;33m \u001b[0mmyTup\u001b[0m\u001b[1;33m.\u001b[0m\u001b[0mappend\u001b[0m \u001b[1;33m=\u001b[0m \u001b[1;34m\"Jam Gadang\"\u001b[0m\u001b[1;33m\u001b[0m\u001b[1;33m\u001b[0m\u001b[0m\n\u001b[0m",
      "\u001b[1;31mAttributeError\u001b[0m: 'tuple' object has no attribute 'append'"
     ]
    }
   ],
   "source": [
    "# Tambah item baru\n",
    "myTup.append = \"Jam Gadang\""
   ]
  },
  {
   "cell_type": "code",
   "execution_count": 30,
   "metadata": {},
   "outputs": [
    {
     "output_type": "error",
     "ename": "TypeError",
     "evalue": "'tuple' object does not support item assignment",
     "traceback": [
      "\u001b[1;31m---------------------------------------------------------------------------\u001b[0m",
      "\u001b[1;31mTypeError\u001b[0m                                 Traceback (most recent call last)",
      "\u001b[1;32m<ipython-input-30-9776d6ea35ed>\u001b[0m in \u001b[0;36m<module>\u001b[1;34m\u001b[0m\n\u001b[0;32m      1\u001b[0m \u001b[1;31m# Edit nilai\u001b[0m\u001b[1;33m\u001b[0m\u001b[1;33m\u001b[0m\u001b[1;33m\u001b[0m\u001b[0m\n\u001b[1;32m----> 2\u001b[1;33m \u001b[0mmyTup\u001b[0m\u001b[1;33m[\u001b[0m\u001b[1;36m1\u001b[0m\u001b[1;33m]\u001b[0m \u001b[1;33m=\u001b[0m \u001b[1;34m'Gunung Fuji'\u001b[0m\u001b[1;33m\u001b[0m\u001b[1;33m\u001b[0m\u001b[0m\n\u001b[0m",
      "\u001b[1;31mTypeError\u001b[0m: 'tuple' object does not support item assignment"
     ]
    }
   ],
   "source": [
    "# Edit nilai\n",
    "myTup[1] = 'Gunung Fuji'"
   ]
  },
  {
   "source": [
    "## *args"
   ],
   "cell_type": "markdown",
   "metadata": {}
  },
  {
   "cell_type": "code",
   "execution_count": 32,
   "metadata": {},
   "outputs": [
    {
     "output_type": "stream",
     "name": "stdout",
     "text": [
      "Halo, Selamat Pagi\n"
     ]
    }
   ],
   "source": [
    "def yourFun(*ucapan):\n",
    "    input_jam = int(input(\"Masukkan pukul berapa sekarang! \"))\n",
    "    while (input_jam > 5 and input_jam <= 11):\n",
    "        print(ucapan[0], ucapan[1], sep=', ')\n",
    "        break\n",
    "    while (input_jam > 11 and input_jam <= 15):\n",
    "        print(ucapan[0], ucapan[2], sep=', ')\n",
    "        break\n",
    "    while (input_jam > 15 and input_jam <= 19):\n",
    "        print(ucapan[0], ucapan[3], sep=', ')\n",
    "        break\n",
    "    while (input_jam > 19 and input_jam < 24):\n",
    "        print(ucapan[0], ucapan[4])\n",
    "        break\n",
    "\n",
    "yourFun(\"Halo\", \"Selamat Pagi\", \"Selamat Siang\", \"Selamat Sore\", \"Selamat Malam\")"
   ]
  },
  {
   "source": [
    "## SET"
   ],
   "cell_type": "markdown",
   "metadata": {}
  },
  {
   "cell_type": "code",
   "execution_count": 33,
   "metadata": {},
   "outputs": [
    {
     "output_type": "stream",
     "name": "stdout",
     "text": [
      "<class 'set'>\n"
     ]
    }
   ],
   "source": [
    "mySet = {'Bangkok', 'Kuala Lumpur', 'Islandia', 'Skotlandia'}\n",
    "print(type(mySet))"
   ]
  },
  {
   "cell_type": "code",
   "execution_count": 34,
   "metadata": {},
   "outputs": [
    {
     "output_type": "stream",
     "name": "stdout",
     "text": [
      "{'Kuala Lumpur', 'Skotlandia', 'Islandia', 'Bangkok'}\n"
     ]
    }
   ],
   "source": [
    "print(mySet)"
   ]
  },
  {
   "cell_type": "code",
   "execution_count": 35,
   "metadata": {},
   "outputs": [
    {
     "output_type": "stream",
     "name": "stdout",
     "text": [
      "{'Islandia', 'Skotlandia', 'Bangkok', 'Kuala Lumpur', 'Hai'}\n"
     ]
    }
   ],
   "source": [
    "mySet.add(\"Hai\")\n",
    "print(mySet)"
   ]
  },
  {
   "cell_type": "code",
   "execution_count": 36,
   "metadata": {},
   "outputs": [],
   "source": [
    "mySet.remove(\"Hai\")"
   ]
  },
  {
   "cell_type": "code",
   "execution_count": 37,
   "metadata": {},
   "outputs": [
    {
     "output_type": "stream",
     "name": "stdout",
     "text": [
      "{'Islandia', 'Skotlandia', 'Bangkok', 'Kuala Lumpur'}\n"
     ]
    }
   ],
   "source": [
    "print(mySet)"
   ]
  },
  {
   "cell_type": "code",
   "execution_count": 38,
   "metadata": {},
   "outputs": [
    {
     "output_type": "stream",
     "name": "stdout",
     "text": [
      "{2, 3, 4, 5, 6, 7, 8}\n"
     ]
    }
   ],
   "source": [
    "myNum = {1,2,3,4,5,6,7,8,7,5,7,5,6,7,8,5,4,5,6,7,8,8,6,5,6,7,8}\n",
    "myNum2 = {2,4,5,7,5,3,5,6,8,9,7,5,2,4,5,7,8,8,6,4,3,6,7,5,4,3,2,4,7,8,9,0}\n",
    "\n",
    "print(myNum & myNum2)"
   ]
  },
  {
   "cell_type": "code",
   "execution_count": null,
   "metadata": {},
   "outputs": [],
   "source": []
  }
 ]
}